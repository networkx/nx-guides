{
 "cells": [
  {
   "cell_type": "markdown",
   "id": "254c1ad2",
   "metadata": {},
   "source": [
    "# Isomorphism"
   ]
  },
  {
   "cell_type": "code",
   "execution_count": null,
   "id": "74333748",
   "metadata": {},
   "outputs": [],
   "source": [
    "import networkx as nx\n",
    "import matplotlib.pyplot as plt"
   ]
  },
  {
   "cell_type": "markdown",
   "id": "5962d808",
   "metadata": {},
   "source": [
    "## What's isomorphism? Why is it interesting?"
   ]
  },
  {
   "cell_type": "markdown",
   "id": "d2f1f5e8",
   "metadata": {},
   "source": [
    "As unlabeled graphs can have multiple spatial representations, two graphs are isomorphic if they have the same number of edges, vertices, and same edges connectivity. Let's see an example of two isomorphic graphs,"
   ]
  },
  {
   "cell_type": "code",
   "execution_count": null,
   "id": "41a4f157",
   "metadata": {},
   "outputs": [],
   "source": [
    "plt.subplot(221)\n",
    "G = nx.Graph([(0, 1), (0, 4), (0,2), (1, 3), (1, 5), (2, 3), (2, 6), (3, 7), (4, 5), (5, 7), (6, 7), (6, 4)])\n",
    "nx.draw_spectral(G, with_labels = True, node_color = \"c\")\n",
    "plt.title(\"G\", fontweight=\"bold\")\n",
    "H = nx.Graph([(1, 2), (1, 5), (1,3), (2, 4), (2, 6), (3, 4), (3, 7), (4, 8), (5, 6), (6, 8), (7, 8), (7, 5)])\n",
    "plt.subplot(222)\n",
    "nx.draw_circular(H, with_labels = True, node_color = \"yellow\")\n",
    "plt.title(\"H\", fontweight=\"bold\")\n",
    "\n",
    "plt.show()"
   ]
  },
  {
   "cell_type": "markdown",
   "id": "e27eb550",
   "metadata": {},
   "source": [
    "These graphs' spatial representations are very different yet they are isomorphic."
   ]
  },
  {
   "cell_type": "markdown",
   "id": "22c58cf6",
   "metadata": {},
   "source": [
    "### **Formal definition**"
   ]
  },
  {
   "cell_type": "markdown",
   "id": "7b43754c",
   "metadata": {},
   "source": [
    "G and H are isomorphic if we can establish a bijection between the vertex sets of G and H. \n",
    "\n",
    "$$ {\\displaystyle f\\colon N(G)\\to N(H)}$$\n",
    "\n",
    "such as if \n",
    "\n",
    "<center> $v$  and $ w $ are  adjacent  in G $\\iff$ $f(v)$ and $f(w)$ are adjacent in H </center>"
   ]
  },
  {
   "cell_type": "markdown",
   "id": "ace308cd",
   "metadata": {},
   "source": [
    "To formally prove that 2 graphs are isomorphic we need to find the bijection between the vertex set. For the previous example that would be: \n",
    "\n",
    "$$f(i) = i+1 \\hspace{0.5cm} \\forall i \\in [0, 7]$$"
   ]
  },
  {
   "cell_type": "markdown",
   "id": "a669cd9a",
   "metadata": {},
   "source": [
    "For small examples, isomorphism may seem easy. But it isn't a simple problem. For two graphs G and H of n nodes, there are n! bijections function possible. Checking every combination is not a feasible option for bigger graphs. \n",
    "In fact, isomorphism is part of the problems known as NP. This means that we don't know any algorithm that runs in polynomial time."
   ]
  },
  {
   "cell_type": "markdown",
   "id": "eab8995a",
   "metadata": {},
   "source": [
    "### Applications \n",
    "\n",
    "- Verification of equivalence of different representations of the design of an electronic circuit and communication networks. \n",
    "- Image recognition.\n",
    "- Identification of chemical compounds and proteins.\n",
    "- Algorithms for fingerprint, facial and retina matching. \n",
    "-  Clustering Algorithms on social networks."
   ]
  },
  {
   "cell_type": "markdown",
   "id": "9cb3ad66",
   "metadata": {},
   "source": [
    "## Isomorphism Algorithms\n",
    "**Naive Approach**"
   ]
  },
  {
   "cell_type": "markdown",
   "id": "57883689",
   "metadata": {},
   "source": [
    "There are some initial properties that we can check to decide whether it's possible to have an isomorphism\n",
    "- G and H have the same amount of nodes and edges \n",
    "- The degree sequence for G and H are the same\n",
    "\n",
    "These are necessary conditions but don't guarantee that two graphs are isomorphic. Let's see a small example:"
   ]
  },
  {
   "cell_type": "code",
   "execution_count": null,
   "id": "be8098a6",
   "metadata": {},
   "outputs": [],
   "source": [
    "plt.subplot(221)\n",
    "G = nx.cycle_graph(6)\n",
    "nx.draw_circular(G)\n",
    "plt.title(\"G\", fontweight=\"bold\")\n",
    "plt.subplot(222)\n",
    "H = nx.union(nx.cycle_graph(3), nx.cycle_graph(3), rename = (\"s\",\"d\"))\n",
    "nx.draw_circular(H, node_color = \"r\")\n",
    "plt.title(\"H\", fontweight=\"bold\")\n",
    "plt.show()"
   ]
  },
  {
   "cell_type": "markdown",
   "id": "2613fb38",
   "metadata": {},
   "source": [
    "We can use the function *faster_could_be_isomorphic()* that return True if G and H have the same degree secuence."
   ]
  },
  {
   "cell_type": "code",
   "execution_count": null,
   "id": "75165e45",
   "metadata": {},
   "outputs": [],
   "source": [
    "nx.faster_could_be_isomorphic(G, H)"
   ]
  },
  {
   "cell_type": "markdown",
   "id": "308f863a",
   "metadata": {},
   "source": [
    "These graphs are clearly not isomorphic but they have the same degree secuence."
   ]
  },
  {
   "cell_type": "markdown",
   "id": "1f34326d",
   "metadata": {},
   "source": [
    "Another property we can check for is: \n",
    "- The same number of cycles of a particular length, for example, triangles. \n",
    "\n",
    "We can use the function *fast_could_be_isomorphic()* to check if the graphs have the same degree and triangle sequence. The triangle sequence contains the number of triangles each node is part of."
   ]
  },
  {
   "cell_type": "code",
   "execution_count": null,
   "id": "3ecae5e2",
   "metadata": {},
   "outputs": [],
   "source": [
    "nx.fast_could_be_isomorphic(G, H)"
   ]
  },
  {
   "cell_type": "markdown",
   "id": "fe140f05",
   "metadata": {},
   "source": [
    "This new property allows us to detect that the graphs from the previous example were not isomorphic. \n",
    "\n",
    "We can go one step further and check: \n",
    "- The same number of maximal cliques. \n",
    "\n",
    "We can use the function *could_be_isomorphic()* to check if the graphs have the same degree, triangle, and clique sequence. The clique sequence contains for each node the number of the maximal clique involving that node."
   ]
  },
  {
   "cell_type": "code",
   "execution_count": null,
   "id": "9d4c50e2",
   "metadata": {},
   "outputs": [],
   "source": [
    "nx.could_be_isomorphic(G, H)"
   ]
  },
  {
   "cell_type": "markdown",
   "id": "eeaaf344",
   "metadata": {},
   "source": [
    "Again we can detect that G and H are not isomorphic. But these conditions are not enough to say that two graphs are isomorphic. Let's look at the following example:"
   ]
  },
  {
   "cell_type": "code",
   "execution_count": null,
   "id": "ace8970f",
   "metadata": {},
   "outputs": [],
   "source": [
    "plt.subplot(221)\n",
    "G = nx.path_graph(5)\n",
    "G.add_edge(2,5)\n",
    "nx.draw_circular(G, with_labels = True, node_color=\"g\")\n",
    "plt.title(\"G\", fontweight=\"bold\")\n",
    "\n",
    "plt.subplot(222)\n",
    "H = nx.path_graph(5)\n",
    "H.add_edge(3,5)\n",
    "nx.draw_circular(H, with_labels = True, node_color = \"c\")\n",
    "plt.title(\"H\", fontweight=\"bold\")\n",
    "plt.show()"
   ]
  },
  {
   "cell_type": "code",
   "execution_count": null,
   "id": "8b0fc524",
   "metadata": {},
   "outputs": [],
   "source": [
    "nx.could_be_isomorphic(G, H)"
   ]
  },
  {
   "cell_type": "markdown",
   "id": "dac2c09b",
   "metadata": {},
   "source": [
    "These graphs meet all the necessary conditions but they're not isomorphic."
   ]
  },
  {
   "cell_type": "markdown",
   "id": "7c5e3f11",
   "metadata": {},
   "source": [
    "## Some classes of graphs with solution in polynomial time\n",
    "- Trees\n",
    "- Planar graphs(In fact, planar graph isomorphism is O(log(n)))\n",
    "- Interval graphs\n",
    "- Permutation graphs\n",
    "- Circulant graphs\n",
    "- Bounded-parameter graphs\n",
    "    - Graphs of bounded treewidth\n",
    "    - Graphs of bounded genus\n",
    "    - Graphs of bounded degree\n",
    "    - Graphs with bounded eigenvalue multiplicity\n",
    "    - k-Contractible graphs (a generalization of bounded degree and bounded genus)"
   ]
  },
  {
   "cell_type": "markdown",
   "id": "7806359e",
   "metadata": {},
   "source": [
    "Let's see an example, we can use the function *tree_isomorphism()* from the isomorphism module to check if two trees are isomorphic in $O(n*log(n))$. This function uses a D&C approach to match the trees once it has found the root of each tree and returns a list with the node matching. \n",
    "\n",
    "So let's use it to check that a 2-ary tree of $2^4 - 1$ nodes is a balanced binary tree of height 3."
   ]
  },
  {
   "cell_type": "code",
   "execution_count": null,
   "id": "208bcbde",
   "metadata": {},
   "outputs": [],
   "source": [
    "t1 = nx.balanced_tree(2,3)\n",
    "t2 = nx.full_rary_tree(2, 15)\n",
    "\n",
    "from networkx.algorithms import isomorphism as iso\n",
    "print(\"Node matching\")\n",
    "iso.tree_isomorphism(t1,t2)"
   ]
  },
  {
   "cell_type": "markdown",
   "id": "f30d89b4",
   "metadata": {},
   "source": [
    "## Advanced Algorithms"
   ]
  },
  {
   "cell_type": "markdown",
   "id": "896fcbd7",
   "metadata": {},
   "source": [
    "### VF2\n",
    "\n",
    "This algorithm is used to solve graph isomorphism and sub-graph isomorphism as well. \n",
    "\n",
    "VF2 is a recursive algorithm where in each step we extend the current matching function to cover more nodes of both graphs until there are no more nodes to match. This is not a brute-force approach because there are some feasibility rules to avoid exploring the whole recursion tree. \n",
    "\n",
    "\n",
    "Formally, We have a function $ M: s \\rightarrow N(G) \\times N(H) $. $M$ is a matching function between the subsets of nodes from $G$ and $H$ at the current state $s$. We start with an initial state $s_0$ with $M(s_0) = \\emptyset$. In each step we consider a set of nodes to expand the current state $s$ to the following state $s'$. In this new state $M(s') = M(s) \\cup {(g, h)} , g\\in N(G), h\\in N(H)$. The consistency condition is that the partial graphs $G$ and $H$ associated with $M(s)$ are isomorphic. There are two types of feasibility checks: \n",
    "- syntactic (graph structure): consist of checking the consistency condition and also the k-look-ahead rules, for checking in advance if a consistent state $s$ has no consistent successors after k steps.\n",
    "- semantic(attributes). \n",
    "\n",
    "Pseudocode:"
   ]
  },
  {
   "cell_type": "markdown",
   "id": "8435c36f",
   "metadata": {},
   "source": [
    "**Match(s):**\n",
    "    \n",
    "    Input: Intermediate state\n",
    "    \n",
    "    Output: The mapping between the 2 graphs\n",
    "    \n",
    "    IF M(s) covers all nodes of H THEN:\n",
    "        RETURN M(s)\n",
    "    ELSE:\n",
    "        Compute P = {(g, h)...} the set of candidates for inclusion in M(s). \n",
    "        FOR each p in P:\n",
    "            IF the feasibility rules succeed for the inclusion of p in M(s) THEN:\n",
    "                Compute the state of s'\n",
    "                MATCH(s')\n",
    "           ENDIF\n",
    "       ENDFOR\n",
    "       Restore data structures\n",
    "    ENDIF"
   ]
  },
  {
   "cell_type": "markdown",
   "id": "e0edf349",
   "metadata": {},
   "source": [
    "Let's use VF2 to check that the graphs from the previous example that could be isomorphic are not isomorphic."
   ]
  },
  {
   "cell_type": "code",
   "execution_count": null,
   "id": "c934edc4",
   "metadata": {},
   "outputs": [],
   "source": [
    "G = nx.path_graph(5)\n",
    "G.add_edge(2,5)\n",
    "\n",
    "H = nx.path_graph(5)\n",
    "H.add_edge(3,5)\n",
    "\n",
    "nx.is_isomorphic(G, H)"
   ]
  },
  {
   "cell_type": "markdown",
   "id": "9dc214a4",
   "metadata": {},
   "source": [
    "**Time Complexity**\n",
    "- Best Case $\\in \\theta(n²)$ if only $n$ states are explored, for example, if each node is explored once.   \n",
    "- Worst Case $\\in \\theta(n!n)$ if all the possible matchings have to be completely explored."
   ]
  },
  {
   "cell_type": "markdown",
   "id": "77493dc3",
   "metadata": {},
   "source": [
    "## State of the art \n",
    "- VF2++ and VF2 Plus. They include some optimizations over the algorithm VF2. \n",
    "- There are some new algorithms: QuickSI, GraphQL, TurboISO, BoostISO, CFL-Match, VF3, CECI, and DAF."
   ]
  },
  {
   "cell_type": "markdown",
   "id": "8aa57729",
   "metadata": {},
   "source": [
    "#### References\n",
    "- Gross J., Yellen J., Anderson M. (2018). *Graph Theory and Its applications* (3rd edition). CRC Press. \n",
    "- Somkunwar R., Moreshwar Vaze V. *A Comparative Study of Graph Isomorphism Applications*. International Journal of Computer Applications (0975 – 8887). Volume 162 – No 7, (March 2017) <https://www.ijcaonline.org/archives/volume162/number7/somkunwar-2017-ijca-913414.pdf>\n",
    "- L. P. Cordella, P. Foggia, C. Sansone, M. Vento, “An Improved Algorithm for Matching Large Graphs”, IEEE Transactions on Pattern Analysis and Machine Intelligence ( Volume: 26, Issue: 10, October 2004) <https://ieeexplore.ieee.org/document/1323804>\n",
    "- <https://en.wikipedia.org/wiki/Graph_isomorphism_problem>"
   ]
  }
 ],
 "metadata": {
  "jupytext": {
   "formats": "md,ipynb"
  },
  "kernelspec": {
   "display_name": "Python 3 (ipykernel)",
   "language": "python",
   "name": "python3"
  },
  "language_info": {
   "codemirror_mode": {
    "name": "ipython",
    "version": 3
   },
   "file_extension": ".py",
   "mimetype": "text/x-python",
   "name": "python",
   "nbconvert_exporter": "python",
   "pygments_lexer": "ipython3",
   "version": "3.8.10"
  }
 },
 "nbformat": 4,
 "nbformat_minor": 5
}
