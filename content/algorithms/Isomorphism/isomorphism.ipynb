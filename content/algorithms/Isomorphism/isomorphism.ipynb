{
 "cells": [
  {
   "cell_type": "markdown",
   "id": "a86bb8ea",
   "metadata": {},
   "source": [
    "# **Isomorphism**"
   ]
  },
  {
   "cell_type": "code",
   "execution_count": 31,
   "id": "3f96fe49",
   "metadata": {},
   "outputs": [],
   "source": [
    "import networkx as nx\n",
    "import matplotlib.pyplot as plt"
   ]
  },
  {
   "cell_type": "markdown",
   "id": "c1ecddc8",
   "metadata": {},
   "source": [
    "## What's isomorphism? Why is it interesting?"
   ]
  },
  {
   "cell_type": "markdown",
   "id": "8313a3ee",
   "metadata": {},
   "source": [
    "As unlabeled graphs can have multiple spatial representations, two graphs are isomorphic if they have the same number of edges, vertices, and same edges connectivity. Let's see an example of two isomorphic graphs, "
   ]
  },
  {
   "cell_type": "code",
   "execution_count": 67,
   "id": "094f2545",
   "metadata": {},
   "outputs": [
    {
     "data": {
      "image/png": "[encoded data removed]",
      "text/plain": [
       "<Figure size 432x288 with 2 Axes>"
      ]
     },
     "metadata": {},
     "output_type": "display_data"
    }
   ],
   "source": [
    "plt.subplot(221)\n",
    "G = nx.Graph([(0, 1), (0, 4), (0,2), (1, 3), (1, 5), (2, 3), (2, 6), (3, 7), (4, 5), (5, 7), (6, 7), (6, 4)])\n",
    "nx.draw_spring(G, with_labels = True, node_color = \"c\")\n",
    "plt.title(\"G\", fontweight=\"bold\")\n",
    "H = nx.Graph([(1, 2), (1, 5), (1,3), (2, 4), (2, 6), (3, 4), (3, 7), (4, 8), (5, 6), (6, 8), (7, 8), (7, 5)])\n",
    "plt.subplot(222)\n",
    "nx.draw_circular(H, with_labels = True, node_color = \"yellow\")\n",
    "plt.title(\"H\", fontweight=\"bold\")\n",
    "\n",
    "plt.show()"
   ]
  },
  {
   "cell_type": "markdown",
   "id": "2444dabd",
   "metadata": {},
   "source": [
    "These graphs' spatial representations are very different yet they are isomorphic.  "
   ]
  },
  {
   "cell_type": "markdown",
   "id": "a4d10e81",
   "metadata": {},
   "source": [
    "### **Formal definition**"
   ]
  },
  {
   "cell_type": "markdown",
   "id": "31c45aa8",
   "metadata": {},
   "source": [
    "G and H are isomorphic if we can establish a bijection between the vertex sets of G and H. \n",
    "\n",
    "$${\\displaystyle f\\colon V(G)\\to V(H)}$$\n",
    "such as if $$ $$\n",
    "\n",
    "<center> $v$  and $ w $ are  adjacent  in G $\\iff$ $f(v)$ and $f(w)$ are adjacent in H </center>"
   ]
  },
  {
   "cell_type": "markdown",
   "id": "13008f62",
   "metadata": {},
   "source": [
    "To formally prove that 2 graphs are isomorphic we need to find the bijection between the vertex set. For the previous example that would be: \n",
    "\n",
    "$$f(i) = i+1 \\hspace{0.5cm} \\forall i \\in [0, 7]$$ \n"
   ]
  },
  {
   "cell_type": "markdown",
   "id": "973d0d4f",
   "metadata": {},
   "source": [
    "For small examples, isomorphism may seem easy. But it isn't a simple problem. For two graphs G and H of n nodes, there are n! bijections function possible. Checking every combination is not a feasible option for bigger graphs. \n",
    "In fact, isomorphism is part of the problems known as NP. This means that we don't know any algorithm that runs in polynomial time."
   ]
  },
  {
   "cell_type": "markdown",
   "id": "b163a69b",
   "metadata": {},
   "source": [
    "### Applications (TODO: Should I move this to the end?)\n",
    "\n",
    "Ideas:\n",
    "- Test if 2 electronic chips are the same\n",
    "- Image recognition\n",
    "- Research: computer and information system, chemistry, social media, images, protein structure\n"
   ]
  },
  {
   "cell_type": "markdown",
   "id": "2ed64b55",
   "metadata": {},
   "source": [
    "## Isomorphism Algorithms\n",
    "**Naive Approach**"
   ]
  },
  {
   "cell_type": "markdown",
   "id": "2769c0e7",
   "metadata": {},
   "source": [
    "There are some initial properties that we can check to decide whether it's possible to have an isomorphism\n",
    "- G and H have the same amount of nodes and edges \n",
    "- The degree sequence for G and H are the same\n",
    "\n",
    "These are necessary conditions but don't guarantee that 2 graphs are isomorphic. Let's see a small example:"
   ]
  },
  {
   "cell_type": "code",
   "execution_count": 62,
   "id": "180bb834",
   "metadata": {},
   "outputs": [
    {
     "data": {
      "image/png": "[encoded data removed]",
      "text/plain": [
       "<Figure size 432x288 with 2 Axes>"
      ]
     },
     "metadata": {},
     "output_type": "display_data"
    }
   ],
   "source": [
    "plt.subplot(221)\n",
    "G = nx.cycle_graph(6)\n",
    "nx.draw_circular(G)\n",
    "plt.title(\"G\", fontweight=\"bold\")\n",
    "plt.subplot(222)\n",
    "H = nx.union(nx.cycle_graph(3), nx.cycle_graph(3), rename = (\"s\",\"d\"))\n",
    "nx.draw_circular(H, node_color = \"r\")\n",
    "plt.title(\"H\", fontweight=\"bold\")\n",
    "plt.show()"
   ]
  },
  {
   "cell_type": "code",
   "execution_count": 26,
   "id": "47182da0",
   "metadata": {},
   "outputs": [
    {
     "data": {
      "text/plain": [
       "True"
      ]
     },
     "execution_count": 26,
     "metadata": {},
     "output_type": "execute_result"
    }
   ],
   "source": [
    "nx.faster_could_be_isomorphic(G, D)"
   ]
  },
  {
   "cell_type": "markdown",
   "id": "677ce2c5",
   "metadata": {},
   "source": [
    "These graphs are clearly not isomorphic but they have the same degree secuence. "
   ]
  },
  {
   "cell_type": "markdown",
   "id": "c3742ac7",
   "metadata": {},
   "source": [
    "Another property we can check for is: \n",
    "- Same number of cycles of a particular length, for example, triangles. "
   ]
  },
  {
   "cell_type": "code",
   "execution_count": 30,
   "id": "18d058b0",
   "metadata": {},
   "outputs": [
    {
     "data": {
      "text/plain": [
       "False"
      ]
     },
     "execution_count": 30,
     "metadata": {},
     "output_type": "execute_result"
    }
   ],
   "source": [
    "nx.fast_could_be_isomorphic(G, D)"
   ]
  },
  {
   "cell_type": "markdown",
   "id": "2e5f32cf",
   "metadata": {},
   "source": [
    "Checking this new property we can detect that the previous example graphs were not isomorphic. \n",
    "\n",
    "We can go one step further and check the number of cliques. "
   ]
  },
  {
   "cell_type": "code",
   "execution_count": 31,
   "id": "9c9e79da",
   "metadata": {},
   "outputs": [
    {
     "data": {
      "text/plain": [
       "False"
      ]
     },
     "execution_count": 31,
     "metadata": {},
     "output_type": "execute_result"
    }
   ],
   "source": [
    "nx.could_be_isomorphic(G, D)"
   ]
  },
  {
   "cell_type": "markdown",
   "id": "ae44b639",
   "metadata": {},
   "source": [
    "Again we can detect that G and D are not isomorphic. But these conditions are not enough to say that 2 graphs are isomorphic. Let's look at the following example: "
   ]
  },
  {
   "cell_type": "code",
   "execution_count": 80,
   "id": "27df83ed",
   "metadata": {},
   "outputs": [
    {
     "data": {
      "image/png": "[encoded data removed]",
      "text/plain": [
       "<Figure size 432x288 with 2 Axes>"
      ]
     },
     "metadata": {},
     "output_type": "display_data"
    }
   ],
   "source": [
    "plt.subplot(221)\n",
    "G = nx.Graph([(1, 2), (2, 3), (3, 4), (4, 1), (2,4)])\n",
    "nx.draw_circular(G, with_labels = True, node_color=\"g\")\n",
    "plt.title(\"G\", fontweight=\"bold\")\n",
    "\n",
    "plt.subplot(222)\n",
    "H = nx.Graph([(1, 2), (2, 3), (3, 4), (2,4), (3, 1)])\n",
    "nx.draw_circular(H, with_labels = True, node_color = \"c\")\n",
    "plt.title(\"H\", fontweight=\"bold\")\n",
    "plt.show()"
   ]
  },
  {
   "cell_type": "code",
   "execution_count": 7,
   "id": "ca76ad04",
   "metadata": {},
   "outputs": [
    {
     "data": {
      "text/plain": [
       "True"
      ]
     },
     "execution_count": 7,
     "metadata": {},
     "output_type": "execute_result"
    }
   ],
   "source": [
    "nx.could_be_isomorphic(G1, G2)"
   ]
  },
  {
   "cell_type": "markdown",
   "id": "dc9d1a59",
   "metadata": {},
   "source": [
    "These graphs meet all the necessary conditions but they're not isomorphic."
   ]
  },
  {
   "cell_type": "markdown",
   "id": "078a546e",
   "metadata": {},
   "source": [
    "### TODO: add classes of graphs with solution in polynomial time"
   ]
  },
  {
   "cell_type": "markdown",
   "id": "c65518ea",
   "metadata": {},
   "source": [
    "**Advanced Algorithms**"
   ]
  },
  {
   "cell_type": "markdown",
   "id": "748075d8",
   "metadata": {},
   "source": [
    "**vf2**"
   ]
  },
  {
   "cell_type": "code",
   "execution_count": null,
   "id": "230396f8",
   "metadata": {},
   "outputs": [],
   "source": []
  },
  {
   "cell_type": "markdown",
   "id": "85620f33",
   "metadata": {},
   "source": [
    "## Todo: State of the art "
   ]
  },
  {
   "cell_type": "markdown",
   "id": "7899371e",
   "metadata": {},
   "source": [
    "# Sources (TODO: check formatting)\n",
    "- Graph Theory and Its applications\n",
    "- https://www.ijcaonline.org/archives/volume162/number7/somkunwar-2017-ijca-913414.pdf"
   ]
  }
 ],
 "metadata": {
  "kernelspec": {
   "display_name": "Python 3 (ipykernel)",
   "language": "python",
   "name": "python3"
  },
  "language_info": {
   "codemirror_mode": {
    "name": "ipython",
    "version": 3
   },
   "file_extension": ".py",
   "mimetype": "text/x-python",
   "name": "python",
   "nbconvert_exporter": "python",
   "pygments_lexer": "ipython3",
   "version": "3.8.10"
  }
 },
 "nbformat": 4,
 "nbformat_minor": 5
}
