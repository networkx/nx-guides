{
 "cells": [
  {
   "cell_type": "markdown",
   "id": "10be13c6",
   "metadata": {},
   "source": [
    "In this tutorial, we are going to talk about the graph coloring methods implemented in networkx. In the graph coloring problems, we assign minimum possible labels/colors that are subjected to certain conditions."
   ]
  },
  {
   "cell_type": "markdown",
   "id": "05de48ca",
   "metadata": {
    "lines_to_next_cell": 0
   },
   "source": [
    "In networkx, there are two types of graph coloring methods (both are vertex coloring methods):\n",
    "\n",
    "1. Greedy Coloring:\n",
    "\n",
    "\n",
    "        - Constraints/Conditions:\n",
    "                1. directly connected nodes should not have the same color\n",
    "                \n",
    "2.  Equitable Coloring:\n",
    "\n",
    "\n",
    "        - Constraints/Conditions: \n",
    "                1. directly connected node should not be same color\n",
    "                2. The number of nodes for each color should differ at max by 1/2\n",
    "\n",
    "\n"
   ]
  },
  {
   "cell_type": "code",
   "execution_count": null,
   "id": "59595cee",
   "metadata": {},
   "outputs": [],
   "source": [
    "# Import the libraries\n",
    "import networkx as nx\n",
    "import matplotlib.pyplot as plt\n",
    "import geopandas as gpd\n",
    "import networkx as nx\n",
    "import matplotlib.animation as animation\n",
    "import numpy as np\n",
    "import folium\n",
    "import json\n",
    "import requests\n",
    "\n",
    "%matplotlib inline"
   ]
  },
  {
   "cell_type": "markdown",
   "id": "8088ff95",
   "metadata": {},
   "source": [
    "### Greedy Colouring:\n",
    "\n",
    "The priority of colours/labels assigned is given by the strategies. Below is the list of strategies in networkx.\n",
    "You can also add your custom strategy.\n"
   ]
  },
  {
   "cell_type": "code",
   "execution_count": null,
   "id": "97f05abf",
   "metadata": {
    "lines_to_next_cell": 2
   },
   "outputs": [],
   "source": [
    "# Load the stratagies for the greedy colouring present in the networkx library\n",
    "strategies = nx.coloring.greedy_coloring.STRATEGIES"
   ]
  },
  {
   "cell_type": "code",
   "execution_count": null,
   "id": "984a84d7",
   "metadata": {},
   "outputs": [],
   "source": [
    "print(\"\\n\".join(strategies.keys()))"
   ]
  },
  {
   "cell_type": "markdown",
   "id": "868c1e0d",
   "metadata": {},
   "source": [
    "    largest_first\n",
    "    random_sequential\n",
    "    smallest_last\n",
    "    independent_set\n",
    "    connected_sequential_bfs\n",
    "    connected_sequential_dfs\n",
    "    connected_sequential\n",
    "    saturation_largest_first\n",
    "    DSATUR\n",
    "    \n"
   ]
  },
  {
   "cell_type": "code",
   "execution_count": null,
   "id": "7182fb19",
   "metadata": {
    "lines_to_next_cell": 2
   },
   "outputs": [],
   "source": [
    "def custom_strategy_implementation(G, colors):\n",
    "    \"\"\"\n",
    "    In this strategy we are returning the priority according to\n",
    "    betweeness centrality of each node.\n",
    "    Parameters:\n",
    "    ----------\n",
    "    G: Graph object\n",
    "    colors: dictionary of colors\n",
    "    yield:\n",
    "    ------\n",
    "      node with highest priority in this case betweeness centrality\n",
    "    \"\"\"\n",
    "    # Calculate betweeness centrality\n",
    "    centrality = nx.betweenness_centrality(G)\n",
    "    # Sort the nodes according to betweeness centrality\n",
    "    centrality = sorted(centrality, key=centrality.get)\n",
    "    # Return the node with highest priority\n",
    "    yield from centrality"
   ]
  },
  {
   "cell_type": "code",
   "execution_count": null,
   "id": "9af12ca0",
   "metadata": {
    "lines_to_next_cell": 2
   },
   "outputs": [],
   "source": [
    "strategies[\"custom_strategy_implementation\"] = custom_strategy_implementation"
   ]
  },
  {
   "cell_type": "code",
   "execution_count": null,
   "id": "f68e6257",
   "metadata": {
    "lines_to_next_cell": 0
   },
   "outputs": [],
   "source": [
    "# Generate a random graph\n",
    "random_graph = nx.erdos_renyi_graph(9, 0.5, seed=4)\n",
    "# Plot the graph\n",
    "nx.draw(random_graph, with_labels=True)"
   ]
  },
  {
   "cell_type": "markdown",
   "id": "f3179790",
   "metadata": {},
   "source": []
  },
  {
   "cell_type": "markdown",
   "id": "c9a1a790",
   "metadata": {},
   "source": [
    "![png](graph-colouring/graph_colouring_files/graph-colouring/graph_colouring_7_0.png)\n",
    "    \n",
    "\n"
   ]
  },
  {
   "cell_type": "code",
   "execution_count": null,
   "id": "97b5e001",
   "metadata": {
    "lines_to_next_cell": 2
   },
   "outputs": [],
   "source": [
    "# Get the greedy colouring for all the strategies\n",
    "colors = {\n",
    "    current_strategy: nx.greedy_color(random_graph, strategy=current_strategy)\n",
    "    for current_strategy in strategies\n",
    "}"
   ]
  },
  {
   "cell_type": "code",
   "execution_count": null,
   "id": "7a01c4fb",
   "metadata": {
    "lines_to_next_cell": 0
   },
   "outputs": [],
   "source": [
    "# Show the greedy colouring for selected strategy: DSATUR\n",
    "selected_strategy = \"DSATUR\"\n",
    "\n",
    "# Get the position of the nodes\n",
    "pos = nx.spring_layout(random_graph, seed=32)\n",
    "# Get the node order\n",
    "node_order = list(colors[selected_strategy].keys())\n",
    "# Get the node colors\n",
    "node_colors = list(colors[selected_strategy].values())\n",
    "\n",
    "# Create the figure and axis\n",
    "fig, ax = plt.subplots(figsize=(10, 10))\n",
    "\n",
    "# Create the legend\n",
    "create_legend = plt.cm.RdYlGn\n",
    "legend = create_legend(np.arange(create_legend.N))\n",
    "# Plot the legend\n",
    "ax.imshow(\n",
    "    [legend],\n",
    "    extent=[0.6, 1, 0.85, 0.9],\n",
    ")\n",
    "# Plot the nodes\n",
    "nx.draw_networkx_nodes(\n",
    "    node_order,\n",
    "    pos=pos,\n",
    "    node_color=node_colors,\n",
    "    node_size=500,\n",
    "    alpha=0.7,\n",
    "    cmap=plt.cm.RdYlGn,\n",
    "    label=\"Node\",\n",
    "    ax=ax,\n",
    ")\n",
    "# Plot the labels\n",
    "nx.draw_networkx_labels(random_graph, pos=pos, font_size=10, font_family=\"sans-serif\")\n",
    "# Plot the edges\n",
    "nx.draw_networkx_edges(random_graph, pos=pos)"
   ]
  },
  {
   "cell_type": "markdown",
   "id": "bee31cb4",
   "metadata": {},
   "source": [
    "\n",
    "\n",
    "\n",
    "\n",
    "    <matplotlib.collections.LineCollection at 0x18e6f8b0eb0>\n",
    "\n",
    "\n",
    "\n",
    "\n",
    "    \n",
    "![png](graph-colouring/graph_colouring_files/graph-colouring/graph_colouring_9_1.png)\n",
    "    "
   ]
  },
  {
   "cell_type": "markdown",
   "id": "576bf68f",
   "metadata": {},
   "source": [
    "#### Creating animation of the strategies as more nodes are added \n"
   ]
  },
  {
   "cell_type": "code",
   "execution_count": null,
   "id": "3ac46c0b",
   "metadata": {
    "lines_to_next_cell": 2
   },
   "outputs": [],
   "source": [
    "# Create subgraphs for animation\n",
    "subgraphs = [\n",
    "    nx.subgraph(random_graph, list(range(i))) for i in range(1, len(random_graph.nodes))\n",
    "]"
   ]
  },
  {
   "cell_type": "code",
   "execution_count": null,
   "id": "99d32e46",
   "metadata": {
    "lines_to_next_cell": 2
   },
   "outputs": [],
   "source": [
    "# Update function for animation: This function will be called for each frame\n",
    "def update(i):\n",
    "    \"\"\"\n",
    "    Update the plot for each frame\n",
    "\n",
    "    Parameters\n",
    "    ----------\n",
    "    i : int\n",
    "       The current frame number\n",
    "    \"\"\"\n",
    "    j = 0\n",
    "    create_legend = plt.cm.RdYlGn\n",
    "    legend = create_legend(np.arange(create_legend.N))\n",
    "\n",
    "    for current_strategy in strategies:\n",
    "        # Clear the previous plot\n",
    "        ax[j].clear()\n",
    "\n",
    "        # Get the node colors\n",
    "        node_colors = [\n",
    "            colors[current_strategy].get(node) for node in subgraphs[i].nodes\n",
    "        ]\n",
    "        # Plot the networkx graph\n",
    "        nx.draw(\n",
    "            subgraphs[i],\n",
    "            pos=pos,\n",
    "            ax=ax[j],\n",
    "            with_labels=True,\n",
    "            node_color=node_colors,\n",
    "            node_size=500,\n",
    "            cmap=plt.cm.RdYlGn,\n",
    "            font_size=10,\n",
    "            font_family=\"sans-serif\",\n",
    "            alpha=0.7,\n",
    "        )\n",
    "        # Set the title\n",
    "        ax[j].set_title(current_strategy)\n",
    "        # Update for the next plot\n",
    "        j += 1"
   ]
  },
  {
   "cell_type": "code",
   "execution_count": null,
   "id": "9c293235",
   "metadata": {
    "lines_to_next_cell": 2
   },
   "outputs": [],
   "source": [
    "%matplotlib agg\n",
    "\n",
    "# Create the figure and axis\n",
    "fig, all_axes = plt.subplots(5, 2, figsize=(20, 20))\n",
    "# Flatten the axes\n",
    "ax = all_axes.flat\n",
    "\n",
    "# Create the animation\n",
    "ani = animation.FuncAnimation(\n",
    "    fig,\n",
    "    func=update,\n",
    "    frames=len(subgraphs),\n",
    ")"
   ]
  },
  {
   "cell_type": "code",
   "execution_count": null,
   "id": "4406f67d",
   "metadata": {
    "lines_to_next_cell": 2
   },
   "outputs": [],
   "source": [
    "# Save the animation as gif\n",
    "gif_file_path = r\"greedy_colouring.gif\"\n",
    "writergif = animation.PillowWriter(fps=1)\n",
    "ani.save(gif_file_path, writer=writergif)"
   ]
  },
  {
   "cell_type": "code",
   "execution_count": null,
   "id": "aa122c84",
   "metadata": {
    "lines_to_next_cell": 2
   },
   "outputs": [],
   "source": [
    "# Display the animation from the gif file\n",
    "def display_animation(gif_file_path):\n",
    "    from IPython.display import Image\n",
    "\n",
    "    display(Image(data=open(gif_file_path, \"rb\").read(), format=\"png\"))"
   ]
  },
  {
   "cell_type": "code",
   "execution_count": null,
   "id": "2f033285",
   "metadata": {
    "lines_to_next_cell": 0
   },
   "outputs": [],
   "source": [
    "display_animation(gif_file_path)"
   ]
  },
  {
   "cell_type": "markdown",
   "id": "4fdd3ee7",
   "metadata": {},
   "source": []
  },
  {
   "cell_type": "markdown",
   "id": "bb135ac6",
   "metadata": {},
   "source": [
    "![png](graph-colouring/graph_colouring_files/graph-colouring/graph_colouring_16_0.png)\n",
    "    "
   ]
  },
  {
   "cell_type": "markdown",
   "id": "9e23c33d",
   "metadata": {},
   "source": [
    "#### Four Color Theorom:\n",
    "    - Example of the use of greedy coloring\n",
    "    - The four color theorom states that any maps with neighbours requires only 4 or less colors \n",
    "    - The below uses indian map and shows the example of the four color theorom\n"
   ]
  },
  {
   "cell_type": "code",
   "execution_count": null,
   "id": "3f503f57",
   "metadata": {
    "lines_to_next_cell": 2
   },
   "outputs": [],
   "source": [
    "%matplotlib inline\n",
    "\n",
    "\n",
    "intial_location = (21.1458, 79.0882)\n",
    "\n",
    "m = folium.Map(location=intial_location, zoom_start=4)"
   ]
  },
  {
   "cell_type": "code",
   "execution_count": null,
   "id": "69f0c62d",
   "metadata": {
    "lines_to_next_cell": 2
   },
   "outputs": [],
   "source": [
    "indian_map_url = \"https://raw.githubusercontent.com/Subhash9325/GeoJson-Data-of-Indian-States/master/Indian_States\"\n",
    "indian_map_data = json.loads(requests.get(indian_map_url).text)"
   ]
  },
  {
   "cell_type": "code",
   "execution_count": null,
   "id": "d4d6f5ea",
   "metadata": {
    "lines_to_next_cell": 2
   },
   "outputs": [],
   "source": [
    "# load the states data\n",
    "state_data = gpd.read_file(indian_map_url)"
   ]
  },
  {
   "cell_type": "code",
   "execution_count": null,
   "id": "9ed3a286",
   "metadata": {
    "lines_to_next_cell": 0
   },
   "outputs": [],
   "source": [
    "# load the state boundaries (Uncomment the below line to get interactive map)\n",
    "# state_data.explore(m=m)"
   ]
  },
  {
   "cell_type": "markdown",
   "id": "37f12925",
   "metadata": {},
   "source": [
    "\n",
    "\n"
   ]
  },
  {
   "cell_type": "markdown",
   "id": "b570a923",
   "metadata": {},
   "source": [
    "![png](graph-colouring/graph_colouring_files/graph-colouring/graph_colouring_21_0.png)\n",
    "    \n",
    "\n",
    "\n"
   ]
  },
  {
   "cell_type": "code",
   "execution_count": null,
   "id": "c9391e7a",
   "metadata": {
    "lines_to_next_cell": 2
   },
   "outputs": [],
   "source": [
    "def get_neighbor_links(row):\n",
    "    neighbors = state_data[state_data.geometry.touches(row[\"geometry\"])].ID_1.tolist()\n",
    "    return neighbors"
   ]
  },
  {
   "cell_type": "code",
   "execution_count": null,
   "id": "13e6b39b",
   "metadata": {
    "lines_to_next_cell": 2
   },
   "outputs": [],
   "source": [
    "state_data[\"neighbors\"] = state_data.apply(get_neighbor_links, axis=1)"
   ]
  },
  {
   "cell_type": "code",
   "execution_count": null,
   "id": "5f92d03e",
   "metadata": {
    "lines_to_next_cell": 2
   },
   "outputs": [],
   "source": [
    "state_data[\"neighbors\"] = state_data.apply(lambda x: get_neighbor_links(x), axis=1)"
   ]
  },
  {
   "cell_type": "code",
   "execution_count": null,
   "id": "012213f8",
   "metadata": {
    "lines_to_next_cell": 2
   },
   "outputs": [],
   "source": [
    "indian_states = nx.from_pandas_edgelist(\n",
    "    state_data.explode(column=\"neighbors\"), \"ID_1\", \"neighbors\"\n",
    ")\n",
    "indian_states.remove_node(np.nan)"
   ]
  },
  {
   "cell_type": "code",
   "execution_count": null,
   "id": "929f9b4b",
   "metadata": {
    "lines_to_next_cell": 0
   },
   "outputs": [],
   "source": [
    "pos = nx.spring_layout(indian_states, seed=32)\n",
    "nx.draw(indian_states, with_labels=True)"
   ]
  },
  {
   "cell_type": "markdown",
   "id": "9556f296",
   "metadata": {},
   "source": []
  },
  {
   "cell_type": "markdown",
   "id": "a78b6bf1",
   "metadata": {},
   "source": [
    "![png](graph-colouring/graph_colouring_files/graph-colouring/graph_colouring_26_0.png)\n",
    "    \n",
    "\n"
   ]
  },
  {
   "cell_type": "code",
   "execution_count": null,
   "id": "7892ad8b",
   "metadata": {
    "lines_to_next_cell": 2
   },
   "outputs": [],
   "source": [
    "india_state_colors = {\n",
    "    current_strategy: nx.greedy_color(\n",
    "        indian_states, strategy=strategies[current_strategy]\n",
    "    )\n",
    "    for current_strategy in strategies\n",
    "}\n",
    "\n",
    "#"
   ]
  },
  {
   "cell_type": "code",
   "execution_count": null,
   "id": "d4f9ca7c",
   "metadata": {
    "lines_to_next_cell": 2
   },
   "outputs": [],
   "source": [
    "selected_strategy = \"custom_strategy_implementation\""
   ]
  },
  {
   "cell_type": "code",
   "execution_count": null,
   "id": "423107c2",
   "metadata": {
    "lines_to_next_cell": 0
   },
   "outputs": [],
   "source": [
    "pos = nx.spring_layout(indian_states, seed=20)\n",
    "\n",
    "nx.draw_networkx_nodes(\n",
    "    list(india_state_colors[selected_strategy].keys()),\n",
    "    pos=pos,\n",
    "    node_color=list(india_state_colors[selected_strategy].values()),\n",
    "    node_size=500,\n",
    "    alpha=0.7,\n",
    "    cmap=plt.cm.RdYlGn,\n",
    "    label=\"Node\",\n",
    ")\n",
    "nx.draw_networkx_labels(indian_states, pos=pos, font_size=10, font_family=\"sans-serif\")\n",
    "patch = nx.draw_networkx_edges(indian_states, pos=pos)"
   ]
  },
  {
   "cell_type": "markdown",
   "id": "f0af2563",
   "metadata": {},
   "source": []
  },
  {
   "cell_type": "markdown",
   "id": "980e5ff4",
   "metadata": {},
   "source": [
    "![png](graph-colouring/graph_colouring_files/graph-colouring/graph_colouring_29_0.png)\n",
    "    \n",
    "\n"
   ]
  },
  {
   "cell_type": "code",
   "execution_count": null,
   "id": "c3cb318a",
   "metadata": {
    "lines_to_next_cell": 2
   },
   "outputs": [],
   "source": [
    "state_data[\"color\"] = state_data[\"ID_1\"].map(india_state_colors[selected_strategy])\n",
    "state_data[\"color\"].fillna(\n",
    "    0, inplace=True\n",
    ")  # assigning default colour to states without any neighbours"
   ]
  },
  {
   "cell_type": "code",
   "execution_count": null,
   "id": "c3235084",
   "metadata": {
    "lines_to_next_cell": 0
   },
   "outputs": [],
   "source": [
    "state_data.explore(\n",
    "    m=m,\n",
    "    column=\"color\",\n",
    "    cmap=\"RdYlGn\",\n",
    ")\n",
    "folium.LayerControl().add_to(m)  # use folium to add layer control"
   ]
  },
  {
   "cell_type": "markdown",
   "id": "2d2c608b",
   "metadata": {
    "lines_to_next_cell": 0
   },
   "source": [
    "\n",
    "\n",
    "\n",
    "\n",
    "    <folium.map.LayerControl at 0x18e6f8f8c40>\n",
    "\n",
    "\n",
    "\n"
   ]
  },
  {
   "cell_type": "code",
   "execution_count": null,
   "id": "5322c35d",
   "metadata": {
    "lines_to_next_cell": 0
   },
   "outputs": [],
   "source": [
    "# Show the map, uncomment the below line to get interactive map\n",
    "# m"
   ]
  },
  {
   "cell_type": "markdown",
   "id": "45664c4d",
   "metadata": {},
   "source": [
    "\n",
    "\n"
   ]
  },
  {
   "cell_type": "markdown",
   "id": "83d3f9fa",
   "metadata": {},
   "source": [
    "![png](graph-colouring/graph_colouring_files/graph-colouring/graph_colouring_32_0.png)\n",
    "    \n",
    "\n"
   ]
  }
 ],
 "metadata": {
  "jupytext": {
   "cell_metadata_filter": "-all",
   "main_language": "python",
   "notebook_metadata_filter": "-all"
  }
 },
 "nbformat": 4,
 "nbformat_minor": 5
}
